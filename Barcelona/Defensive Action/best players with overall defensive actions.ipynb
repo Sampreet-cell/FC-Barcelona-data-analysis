{
 "cells": [
  {
   "cell_type": "code",
   "execution_count": 1,
   "id": "59ed29e7-2a78-4027-9339-32bf52008cf8",
   "metadata": {},
   "outputs": [],
   "source": [
    "import pandas as pd"
   ]
  },
  {
   "cell_type": "code",
   "execution_count": 2,
   "id": "93aa48ca-003d-4887-b4ad-68eeb3a8e7a0",
   "metadata": {},
   "outputs": [],
   "source": [
    "data = pd.read_csv(\"defensive action barcelona.csv\")"
   ]
  },
  {
   "cell_type": "code",
   "execution_count": 3,
   "id": "571c8ec6-adbf-4ebe-91b3-159d412b8123",
   "metadata": {},
   "outputs": [],
   "source": [
    "weights = {\n",
    "    'Tackles ratio': 0.1,\n",
    "    'Tackles TklW ratio': 0.1,\n",
    "    'Tackles Def 3rd ratio': 0.08,\n",
    "    'Tackles Mid 3rd ratio': 0.07,\n",
    "    'Tackles Att 3rd ratio': 0.06,\n",
    "    'Dribblers tackled ratio': 0.09,\n",
    "    'Dribbles challenged ratio': 0.08,\n",
    "    'Percent of dribblers tackled ratio': 0.07,\n",
    "    'Challenges Lost ratio': 0.05,\n",
    "    'Blocks ratio': 0.1,\n",
    "    'Blocks Sh ratio': 0.08,\n",
    "    'Blocks Pass ratio': 0.07,\n",
    "    'Int ratio': 0.1,\n",
    "    'Tkl Int ratio': 0.08,\n",
    "    'Clr ratio': 0.08,\n",
    "    'Err ratio': 0.05\n",
    "}"
   ]
  },
  {
   "cell_type": "code",
   "execution_count": 4,
   "id": "c70a8888-0876-4ad1-97c4-79ff428c33ea",
   "metadata": {},
   "outputs": [],
   "source": [
    "data['Overall_Score'] = (data[list(weights.keys())] * pd.Series(weights)).sum(axis=1)"
   ]
  },
  {
   "cell_type": "code",
   "execution_count": 5,
   "id": "005e5c34-a257-4195-ac86-662f1f58b3c1",
   "metadata": {},
   "outputs": [],
   "source": [
    "sorted_players = data.sort_values(by='Overall_Score', ascending=False)"
   ]
  },
  {
   "cell_type": "code",
   "execution_count": 6,
   "id": "95e63bcd-e634-4411-8eed-4c0fa52121c8",
   "metadata": {},
   "outputs": [],
   "source": [
    "top_5_players = sorted_players.head(5)"
   ]
  },
  {
   "cell_type": "code",
   "execution_count": 7,
   "id": "e1b0d52b-d09f-427b-8438-efcb74d021c1",
   "metadata": {},
   "outputs": [
    {
     "name": "stdout",
     "output_type": "stream",
     "text": [
      "             Player  Overall_Score\n",
      "19     Gerard Piqué       0.020812\n",
      "20  Héctor Bellerín       0.020079\n",
      "22      Pablo Torre       0.018980\n",
      "5   Sergio Busquets       0.016350\n",
      "17      Eric García       0.014293\n"
     ]
    }
   ],
   "source": [
    "print(top_5_players[['Player', 'Overall_Score']])"
   ]
  },
  {
   "cell_type": "code",
   "execution_count": null,
   "id": "4adfe7b3-494e-4e7d-a744-575ec9df0dba",
   "metadata": {},
   "outputs": [],
   "source": []
  }
 ],
 "metadata": {
  "kernelspec": {
   "display_name": "Python 3 (ipykernel)",
   "language": "python",
   "name": "python3"
  },
  "language_info": {
   "codemirror_mode": {
    "name": "ipython",
    "version": 3
   },
   "file_extension": ".py",
   "mimetype": "text/x-python",
   "name": "python",
   "nbconvert_exporter": "python",
   "pygments_lexer": "ipython3",
   "version": "3.9.12"
  }
 },
 "nbformat": 4,
 "nbformat_minor": 5
}
