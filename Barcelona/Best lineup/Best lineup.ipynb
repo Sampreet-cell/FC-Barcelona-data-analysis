{
 "cells": [
  {
   "cell_type": "code",
   "execution_count": 79,
   "id": "0fb6217e-2cad-4f24-80c8-2821fb6bd7ef",
   "metadata": {},
   "outputs": [],
   "source": [
    "import pandas as pd"
   ]
  },
  {
   "cell_type": "code",
   "execution_count": 80,
   "id": "f86d30b3-b3c5-4534-8ac2-4415c1b92f5c",
   "metadata": {},
   "outputs": [],
   "source": [
    "defensive_actions_df = pd.read_csv('Defensive action.csv')\n",
    "goals_shots_creation_df = pd.read_csv('Goals shots creation.csv')\n",
    "pass_types_df = pd.read_csv('Pass types.csv')\n",
    "passing_df = pd.read_csv('Passing.csv')\n",
    "possession_df = pd.read_csv('Possession.csv')\n",
    "shooting_df = pd.read_csv('shooting.csv')\n",
    "player_position_df = pd.read_csv('players.csv')"
   ]
  },
  {
   "cell_type": "code",
   "execution_count": 81,
   "id": "0b253b3c-5da8-42ac-a9a7-3cdaae29e7ca",
   "metadata": {},
   "outputs": [
    {
     "name": "stderr",
     "output_type": "stream",
     "text": [
      "C:\\Users\\SAMPREET\\AppData\\Local\\Temp\\ipykernel_22328\\1767618318.py:3: FutureWarning: Passing 'suffixes' which cause duplicate columns {'Position_x'} in the result is deprecated and will raise a MergeError in a future version.\n",
      "  merged_df = merged_df.merge(passing_df, on='Player', how='inner')\n",
      "C:\\Users\\SAMPREET\\AppData\\Local\\Temp\\ipykernel_22328\\1767618318.py:5: FutureWarning: Passing 'suffixes' which cause duplicate columns {'Position_x'} in the result is deprecated and will raise a MergeError in a future version.\n",
      "  merged_df = merged_df.merge(shooting_df, on='Player', how='inner')\n"
     ]
    }
   ],
   "source": [
    "merged_df = defensive_actions_df.merge(goals_shots_creation_df, on='Player', how='inner')\n",
    "merged_df = merged_df.merge(pass_types_df, on='Player', how='inner')\n",
    "merged_df = merged_df.merge(passing_df, on='Player', how='inner')\n",
    "merged_df = merged_df.merge(possession_df, on='Player', how='inner')\n",
    "merged_df = merged_df.merge(shooting_df, on='Player', how='inner')"
   ]
  },
  {
   "cell_type": "code",
   "execution_count": 82,
   "id": "12c73e92-c353-4da8-ba02-6a97db1cd774",
   "metadata": {},
   "outputs": [],
   "source": [
    "merged_df['Performance_Score'] = (merged_df['Tackles ratio'] * 1 +\n",
    "                                  merged_df['Tackles TklW ratio'] * 1.5 +\n",
    "                                  merged_df['Blocks ratio'] * 1 +\n",
    "                                  merged_df['Int ratio'] * 1.5 +\n",
    "                                  merged_df['Dribblers tackled ratio'] * 1 +\n",
    "                                  merged_df['SCA ratio'] * 1.5 +\n",
    "                                  merged_df['GCA ratio'] * 2 +\n",
    "                                  merged_df['GCA PassLive ratio'] * 2 +\n",
    "                                  merged_df['SCA PassLive ratio'] * 1.5 +\n",
    "                                  merged_df['GCA Sh ratio'] * 2.5 +\n",
    "                                  merged_df['Attempted'] * 1 +\n",
    "                                  merged_df['Cmp'] * 1.5 +\n",
    "                                  merged_df['Live Pass'] * 1.5 +\n",
    "                                  merged_df['Through Pass'] * 2 +\n",
    "                                  merged_df['Cross Pass'] * 1.5 +\n",
    "                                  merged_df['Ast'] * 2 +\n",
    "                                  merged_df['Total PrgDist'] * 1.5 +\n",
    "                                  merged_df['KP'] * 1.5 +\n",
    "                                  merged_df['PrgP'] * 1.5 +\n",
    "                                  merged_df['PPA'] * 2 +\n",
    "                                  merged_df['Touches ratio'] * 1 +\n",
    "                                  merged_df['Take-Ons Att ratio'] * 2 +\n",
    "                                  merged_df['Carries ratio'] * 1.5 +\n",
    "                                  merged_df['Receiving ratio'] * 1 +\n",
    "                                  merged_df['Take-Ons Succ ratio'] * 2.5 +\n",
    "                                  merged_df['Goals'] * 3 +\n",
    "                                  merged_df['Goals by Sot'] * 2.5 +\n",
    "                                  merged_df['PK'] * 2.5 +\n",
    "                                  merged_df['Shot'] * 2 +\n",
    "                                  merged_df['SoT'] * 2.5)"
   ]
  },
  {
   "cell_type": "code",
   "execution_count": 83,
   "id": "932992e2-92d8-4dd1-8b59-afa3c7425b6c",
   "metadata": {},
   "outputs": [],
   "source": [
    "final_df = player_position_df.merge(merged_df[['Player', 'Performance_Score']], on='Player', how='left')"
   ]
  },
  {
   "cell_type": "code",
   "execution_count": 84,
   "id": "24de59bd-af4e-4839-8bd6-65ebe6fee7e1",
   "metadata": {},
   "outputs": [],
   "source": [
    "final_df = final_df[final_df['Matches'] >= 30]"
   ]
  },
  {
   "cell_type": "code",
   "execution_count": 85,
   "id": "f2883183-0afe-4268-819a-2350dad2366d",
   "metadata": {},
   "outputs": [],
   "source": [
    "gk_players = final_df[final_df['Position'] == 'GK'].nlargest(1, 'Performance_Score')\n",
    "df_players = final_df[final_df['Position'] == 'DF'].nlargest(4, 'Performance_Score')\n",
    "mf_players = final_df[final_df['Position'] == 'MF'].nlargest(3, 'Performance_Score')\n",
    "fw_players = final_df[final_df['Position'] == 'FW'].nlargest(3, 'Performance_Score')"
   ]
  },
  {
   "cell_type": "code",
   "execution_count": 86,
   "id": "b29fb3b7-cdb9-47a8-adf6-58507069ceab",
   "metadata": {},
   "outputs": [],
   "source": [
    "starting_11 = pd.concat([gk_players, df_players, mf_players, fw_players])"
   ]
  },
  {
   "cell_type": "code",
   "execution_count": 87,
   "id": "8120da37-995e-4182-a44c-b9568f2afa76",
   "metadata": {},
   "outputs": [
    {
     "name": "stdout",
     "output_type": "stream",
     "text": [
      "                   Player Position  Performance_Score\n",
      "0   Marc-André ter Stegen       GK          10.862800\n",
      "17            Eric García       DF          15.078176\n",
      "12          Marcos Alonso       DF          13.521834\n",
      "10    Andreas Christensen       DF          12.763877\n",
      "13             Jordi Alba       DF          12.310318\n",
      "4         Frenkie de Jong       MF          11.674887\n",
      "8                   Pedri       MF           9.698557\n",
      "5         Sergio Busquets       MF           9.261607\n",
      "7                Raphinha       FW           7.487036\n",
      "11        Ousmane Dembélé       FW           7.178920\n",
      "14          Ferrán Torres       FW           5.428048\n"
     ]
    }
   ],
   "source": [
    "print(starting_11[['Player', 'Position', 'Performance_Score']])"
   ]
  },
  {
   "cell_type": "code",
   "execution_count": null,
   "id": "ffc47844-daee-4372-b767-500922763c18",
   "metadata": {},
   "outputs": [],
   "source": []
  }
 ],
 "metadata": {
  "kernelspec": {
   "display_name": "Python 3 (ipykernel)",
   "language": "python",
   "name": "python3"
  },
  "language_info": {
   "codemirror_mode": {
    "name": "ipython",
    "version": 3
   },
   "file_extension": ".py",
   "mimetype": "text/x-python",
   "name": "python",
   "nbconvert_exporter": "python",
   "pygments_lexer": "ipython3",
   "version": "3.9.12"
  }
 },
 "nbformat": 4,
 "nbformat_minor": 5
}
