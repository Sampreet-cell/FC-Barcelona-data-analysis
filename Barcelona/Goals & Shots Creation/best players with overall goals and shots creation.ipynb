{
 "cells": [
  {
   "cell_type": "code",
   "execution_count": 21,
   "id": "59a93969-d8ff-407c-ba5b-6fbe7500cee0",
   "metadata": {},
   "outputs": [],
   "source": [
    "import pandas as pd"
   ]
  },
  {
   "cell_type": "code",
   "execution_count": 22,
   "id": "94f5b53c-6ca0-4d5b-9bba-a62c237f9aa0",
   "metadata": {},
   "outputs": [],
   "source": [
    "data = pd.read_csv(\"Goals shots creation.csv\")"
   ]
  },
  {
   "cell_type": "code",
   "execution_count": 23,
   "id": "07358d5f-0805-46be-a51f-6b4a41009a5a",
   "metadata": {},
   "outputs": [],
   "source": [
    "weights = {\"SCA ratio\":0.1,\n",
    "           \"SCA PassLive ratio\":0.08,\n",
    "           \"SCA PassDead ratio\":0.07,\n",
    "           \"SCA TO ratio\":0.06,\n",
    "           \"SCA Sh ratio\":0.07,\n",
    "           \"SCA Fld ratio\":0.06,\n",
    "           \"SCA Def ratio\":0.05,\n",
    "           \"GCA ratio\":0.1,\n",
    "           \"GCA PassLive ratio\":0.09,\n",
    "           \"GCA PassDead ratio\":0.08,\n",
    "           \"GCA TO ratio\":0.07,\n",
    "           \"GCA Sh ratio\":0.08,\n",
    "           \"GCA Fld ratio\":0.07,\n",
    "           \"GCA Def ratio\":0.06\n",
    "          }"
   ]
  },
  {
   "cell_type": "code",
   "execution_count": 24,
   "id": "bc227f57-2b66-4e86-a274-115dbd79edc0",
   "metadata": {},
   "outputs": [],
   "source": [
    "data['Overall_Score'] = (data[list(weights.keys())] * pd.Series(weights)).sum(axis=1)"
   ]
  },
  {
   "cell_type": "code",
   "execution_count": 25,
   "id": "6d079505-885d-4f84-ae48-4690662f4a4e",
   "metadata": {},
   "outputs": [],
   "source": [
    "sorted_players = data.sort_values(by='Overall_Score', ascending=False)"
   ]
  },
  {
   "cell_type": "code",
   "execution_count": 26,
   "id": "01831a89-f742-431b-8ef0-c84226f543f3",
   "metadata": {},
   "outputs": [],
   "source": [
    "top_5_players = sorted_players.head(5)"
   ]
  },
  {
   "cell_type": "code",
   "execution_count": 27,
   "id": "f63b752f-4be6-4a89-91fd-910990be280c",
   "metadata": {},
   "outputs": [
    {
     "name": "stdout",
     "output_type": "stream",
     "text": [
      "             Player  Overall_Score\n",
      "11  Ousmane Dembélé       0.010586\n",
      "7          Raphinha       0.009447\n",
      "8             Pedri       0.007872\n",
      "13       Jordi Alba       0.007499\n",
      "4   Frenkie de Jong       0.007036\n"
     ]
    }
   ],
   "source": [
    "print(top_5_players[['Player', 'Overall_Score']])"
   ]
  },
  {
   "cell_type": "code",
   "execution_count": null,
   "id": "e50ae7d4-6c04-4a8c-a518-479d0d18b78b",
   "metadata": {},
   "outputs": [],
   "source": []
  }
 ],
 "metadata": {
  "kernelspec": {
   "display_name": "Python 3 (ipykernel)",
   "language": "python",
   "name": "python3"
  },
  "language_info": {
   "codemirror_mode": {
    "name": "ipython",
    "version": 3
   },
   "file_extension": ".py",
   "mimetype": "text/x-python",
   "name": "python",
   "nbconvert_exporter": "python",
   "pygments_lexer": "ipython3",
   "version": "3.9.12"
  }
 },
 "nbformat": 4,
 "nbformat_minor": 5
}
