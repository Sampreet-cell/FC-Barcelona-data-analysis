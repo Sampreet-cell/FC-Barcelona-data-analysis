{
 "cells": [
  {
   "cell_type": "code",
   "execution_count": 1,
   "id": "459a6af8-072a-4779-b471-05d3c1954408",
   "metadata": {},
   "outputs": [],
   "source": [
    "import pandas as pd"
   ]
  },
  {
   "cell_type": "code",
   "execution_count": 2,
   "id": "96f4d865-cb48-42d8-8f59-c196ce8996eb",
   "metadata": {},
   "outputs": [],
   "source": [
    "data = pd.read_csv(\"Passing.csv\")"
   ]
  },
  {
   "cell_type": "code",
   "execution_count": 5,
   "id": "1e48c409-ef83-456a-8a24-9c5f2f61f17c",
   "metadata": {},
   "outputs": [],
   "source": [
    "weights = {\"Total Cmp\": 0.1,\n",
    "              \"Total Att\": 0.09,\n",
    "              \"Total TotDist\": 0.08,\n",
    "              \"Total PrgDist\": 0.07,\n",
    "              \"Short Cmp\": 0.07,\n",
    "              \"Short Att\": 0.06,\n",
    "              \"Medium Cmp\": 0.06,\n",
    "              \"Medium Att\": 0.06,\n",
    "              \"Long Cmp\": 0.07,\n",
    "              \"Long Att\": 0.06,\n",
    "              \"Ast\": 0.09,\n",
    "              \"KP\": 0.08,\n",
    "              \"one third\": 0.07,\n",
    "              \"PPA\": 0.07,\n",
    "              \"CrsPA\": 0.06,\n",
    "              \"PrgP\": 0.08}"
   ]
  },
  {
   "cell_type": "code",
   "execution_count": 6,
   "id": "1186941a-d19e-4fc1-a767-e2cad954fc63",
   "metadata": {},
   "outputs": [],
   "source": [
    "data['Overall_Score'] = (data[list(weights.keys())] * pd.Series(weights)).sum(axis=1)"
   ]
  },
  {
   "cell_type": "code",
   "execution_count": 7,
   "id": "554c40ed-6602-4357-87bf-c53db398cfe8",
   "metadata": {},
   "outputs": [],
   "source": [
    "sorted_players = data.sort_values(by='Overall_Score', ascending=False)"
   ]
  },
  {
   "cell_type": "code",
   "execution_count": 8,
   "id": "706f2246-21fd-4430-bfcd-ec2386cf59c9",
   "metadata": {},
   "outputs": [],
   "source": [
    "top_5_players = sorted_players.head(5)"
   ]
  },
  {
   "cell_type": "code",
   "execution_count": 9,
   "id": "30bcafee-fce0-4871-9992-607c81997e39",
   "metadata": {},
   "outputs": [
    {
     "name": "stdout",
     "output_type": "stream",
     "text": [
      "                 Player  Overall_Score\n",
      "19         Gerard Piqué       2.190265\n",
      "17          Eric García       1.678009\n",
      "10  Andreas Christensen       1.637185\n",
      "12        Marcos Alonso       1.495077\n",
      "13           Jordi Alba       1.425419\n"
     ]
    }
   ],
   "source": [
    "print(top_5_players[['Player', 'Overall_Score']])"
   ]
  },
  {
   "cell_type": "code",
   "execution_count": null,
   "id": "78c9870e-9b5e-41b7-ba35-668df4122e8c",
   "metadata": {},
   "outputs": [],
   "source": []
  }
 ],
 "metadata": {
  "kernelspec": {
   "display_name": "Python 3 (ipykernel)",
   "language": "python",
   "name": "python3"
  },
  "language_info": {
   "codemirror_mode": {
    "name": "ipython",
    "version": 3
   },
   "file_extension": ".py",
   "mimetype": "text/x-python",
   "name": "python",
   "nbconvert_exporter": "python",
   "pygments_lexer": "ipython3",
   "version": "3.9.12"
  }
 },
 "nbformat": 4,
 "nbformat_minor": 5
}
