{
 "cells": [
  {
   "cell_type": "code",
   "execution_count": 1,
   "id": "fe95c54d-3ea4-424d-8e34-017f88943752",
   "metadata": {},
   "outputs": [],
   "source": [
    "import pandas as pd"
   ]
  },
  {
   "cell_type": "code",
   "execution_count": 2,
   "id": "9aa58ebc-1360-4206-bb35-88bb3f6d7593",
   "metadata": {},
   "outputs": [],
   "source": [
    "data = pd.read_csv(\"Pass types.csv\")"
   ]
  },
  {
   "cell_type": "code",
   "execution_count": 3,
   "id": "6ed64759-a1e6-49d3-b71e-be2332b3e6b2",
   "metadata": {},
   "outputs": [],
   "source": [
    "weights = {\n",
    "    'Attempted': 0.1,\n",
    "    'Live Pass': 0.09,\n",
    "    'Dead Pass': 0.08,\n",
    "    'Free Kick Pass': 0.07,\n",
    "    'Through Pass': 0.08,\n",
    "    'Switching Passes': 0.07,\n",
    "    'Cross Pass': 0.08,\n",
    "    'Throw ins': 0.06,\n",
    "    'Corner Kick Pass': 0.07,\n",
    "    'CK Inswing': 0.06,\n",
    "    'CK Outswing': 0.06,\n",
    "    'CK Straight': 0.06,\n",
    "    'Cmp': 0.1,\n",
    "    'Offside Pass': 0.05,\n",
    "    'Blocks': 0.06,\n",
    "}"
   ]
  },
  {
   "cell_type": "code",
   "execution_count": 4,
   "id": "02792629-16e7-44b4-b882-c8870e1a744c",
   "metadata": {},
   "outputs": [],
   "source": [
    "data['Overall_Score'] = (data[list(weights.keys())] * pd.Series(weights)).sum(axis=1)"
   ]
  },
  {
   "cell_type": "code",
   "execution_count": 5,
   "id": "a5222f75-08d9-4932-a798-4837e0d5accf",
   "metadata": {},
   "outputs": [],
   "source": [
    "sorted_players = data.sort_values(by='Overall_Score', ascending=False)"
   ]
  },
  {
   "cell_type": "code",
   "execution_count": 6,
   "id": "06bee4c0-5596-49c5-986e-a75a239a76ba",
   "metadata": {},
   "outputs": [],
   "source": [
    "top_5_players = sorted_players.head(5)"
   ]
  },
  {
   "cell_type": "code",
   "execution_count": 7,
   "id": "5f88cde1-5de6-43ed-b6a4-6253181521f6",
   "metadata": {},
   "outputs": [
    {
     "name": "stdout",
     "output_type": "stream",
     "text": [
      "                 Player  Overall_Score\n",
      "19         Gerard Piqué       0.277430\n",
      "13           Jordi Alba       0.253116\n",
      "17          Eric García       0.226226\n",
      "4       Frenkie de Jong       0.224751\n",
      "10  Andreas Christensen       0.222923\n"
     ]
    }
   ],
   "source": [
    "print(top_5_players[['Player', 'Overall_Score']])"
   ]
  },
  {
   "cell_type": "code",
   "execution_count": null,
   "id": "798b15cf-1fbf-438c-9bd9-3a972f473aeb",
   "metadata": {},
   "outputs": [],
   "source": []
  }
 ],
 "metadata": {
  "kernelspec": {
   "display_name": "Python 3 (ipykernel)",
   "language": "python",
   "name": "python3"
  },
  "language_info": {
   "codemirror_mode": {
    "name": "ipython",
    "version": 3
   },
   "file_extension": ".py",
   "mimetype": "text/x-python",
   "name": "python",
   "nbconvert_exporter": "python",
   "pygments_lexer": "ipython3",
   "version": "3.9.12"
  }
 },
 "nbformat": 4,
 "nbformat_minor": 5
}
