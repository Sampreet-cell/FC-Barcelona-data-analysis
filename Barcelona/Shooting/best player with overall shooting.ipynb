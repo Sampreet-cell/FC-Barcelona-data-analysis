{
 "cells": [
  {
   "cell_type": "code",
   "execution_count": 15,
   "id": "7372e1e6-0c43-4dfd-b4f4-1cae6cf61ea0",
   "metadata": {},
   "outputs": [],
   "source": [
    "import pandas as pd"
   ]
  },
  {
   "cell_type": "code",
   "execution_count": 16,
   "id": "90380cdc-c530-49b6-9d2b-090cbbdff3ca",
   "metadata": {},
   "outputs": [],
   "source": [
    "data = pd.read_csv(\"shooting.csv\")"
   ]
  },
  {
   "cell_type": "code",
   "execution_count": 17,
   "id": "532a1f0b-868c-4984-9b3e-55cb51eaae4d",
   "metadata": {},
   "outputs": [],
   "source": [
    "weights = {\"Goals\": 0.12,\n",
    "           \"Shot\": 0.1,\n",
    "           \"SoT\": 0.1,\n",
    "           \"Goals by Shot\": 0.1,\n",
    "           \"Goals by Sot\": 0.12,\n",
    "           \"Avg Distance\": 0.08,\n",
    "           \"FK\": 0.08,\n",
    "           \"PK\": 0.12,\n",
    "           \"PK att\": 0.08}"
   ]
  },
  {
   "cell_type": "code",
   "execution_count": 18,
   "id": "50e168da-957d-490a-be21-8f9d61d5b77b",
   "metadata": {},
   "outputs": [],
   "source": [
    "data['Overall_Score'] = (data[list(weights.keys())] * pd.Series(weights)).sum(axis=1)"
   ]
  },
  {
   "cell_type": "code",
   "execution_count": 19,
   "id": "c154ad6b-73dc-47e1-af6a-6b01d14b73a1",
   "metadata": {},
   "outputs": [],
   "source": [
    "sorted_players = data.sort_values(by='Overall_Score', ascending=False)"
   ]
  },
  {
   "cell_type": "code",
   "execution_count": 20,
   "id": "08a686f3-86e0-4b78-8c29-ae735654d875",
   "metadata": {},
   "outputs": [],
   "source": [
    "top_5_players = sorted_players.head(5)"
   ]
  },
  {
   "cell_type": "code",
   "execution_count": 21,
   "id": "89356bcf-e800-40bc-be0f-f85f29d9664c",
   "metadata": {},
   "outputs": [
    {
     "name": "stdout",
     "output_type": "stream",
     "text": [
      "             Player  Overall_Score\n",
      "13       Jordi Alba       1.854501\n",
      "22      Pablo Torre       1.778808\n",
      "5   Sergio Busquets       1.736397\n",
      "7          Raphinha       1.611237\n",
      "20  Héctor Bellerín       1.584404\n"
     ]
    }
   ],
   "source": [
    "print(top_5_players[['Player', 'Overall_Score']])"
   ]
  },
  {
   "cell_type": "code",
   "execution_count": null,
   "id": "a2358adb-8c9f-4642-9bca-b489b4eb55dd",
   "metadata": {},
   "outputs": [],
   "source": []
  }
 ],
 "metadata": {
  "kernelspec": {
   "display_name": "Python 3 (ipykernel)",
   "language": "python",
   "name": "python3"
  },
  "language_info": {
   "codemirror_mode": {
    "name": "ipython",
    "version": 3
   },
   "file_extension": ".py",
   "mimetype": "text/x-python",
   "name": "python",
   "nbconvert_exporter": "python",
   "pygments_lexer": "ipython3",
   "version": "3.9.12"
  }
 },
 "nbformat": 4,
 "nbformat_minor": 5
}
