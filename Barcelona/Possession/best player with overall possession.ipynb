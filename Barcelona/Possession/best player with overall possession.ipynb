{
 "cells": [
  {
   "cell_type": "code",
   "execution_count": 5,
   "id": "12f0790c-be9d-4fde-8bc8-74fc5bc5891d",
   "metadata": {},
   "outputs": [],
   "source": [
    "import pandas as pd"
   ]
  },
  {
   "cell_type": "code",
   "execution_count": 6,
   "id": "9fbe4f0b-cac8-4044-aa4a-9715d37c7218",
   "metadata": {},
   "outputs": [],
   "source": [
    "data = pd.read_csv(\"Possession barcelona.csv\")"
   ]
  },
  {
   "cell_type": "code",
   "execution_count": 7,
   "id": "f6f2a547-853b-4026-9724-ede1a7fe27fd",
   "metadata": {},
   "outputs": [],
   "source": [
    "weights = {\n",
    "    'Touches ratio': 0.1,\n",
    "    'Def Pen ratio': 0.08,\n",
    "    'Def 3rd ratio': 0.06,\n",
    "    'Mid 3rd ratio': 0.05,\n",
    "    'Att 3rd ratio': 0.04,\n",
    "    'Att Pen ratio': 0.06,\n",
    "    'Take-Ons Att ratio': 0.09,\n",
    "    'Take-Ons Succ ratio': 0.08,\n",
    "    'Take-Ons Succ rate ratio': 0.07,\n",
    "    'Take-Ons Tkld ratio': 0.05,\n",
    "    'Take-Ons Tkld rate ratio': 0.04,\n",
    "    'Carries ratio': 0.08,\n",
    "    'TotDist ratio': 0.07,\n",
    "    'PrgDist ratio': 0.06,\n",
    "    'PrgC ratio': 0.05,\n",
    "    'Carries one third ratio': 0.06,\n",
    "    'CPA ratio': 0.05,\n",
    "    'Miscontrols ratio': 0.04,\n",
    "    'Dis ratio': 0.05,\n",
    "    'Receiving ratio': 0.08,\n",
    "    'Receiving PrgR ratio': 0.06\n",
    "}"
   ]
  },
  {
   "cell_type": "code",
   "execution_count": 8,
   "id": "61293a2f-7d12-4014-85be-ca1f57672b31",
   "metadata": {},
   "outputs": [],
   "source": [
    "data['Overall_Score'] = (data[list(weights.keys())] * pd.Series(weights)).sum(axis=1)"
   ]
  },
  {
   "cell_type": "code",
   "execution_count": 9,
   "id": "17ff0af2-e7d4-42df-888e-91d8e2147ec8",
   "metadata": {},
   "outputs": [],
   "source": [
    "sorted_players = data.sort_values(by='Overall_Score', ascending=False)"
   ]
  },
  {
   "cell_type": "code",
   "execution_count": 10,
   "id": "0d83fe06-3d4e-46aa-9568-725f22f8f424",
   "metadata": {},
   "outputs": [],
   "source": [
    "top_5_players = sorted_players.head(5)"
   ]
  },
  {
   "cell_type": "code",
   "execution_count": 12,
   "id": "ce9b62fa-4373-442f-aa29-96ea559146d7",
   "metadata": {},
   "outputs": [
    {
     "name": "stdout",
     "output_type": "stream",
     "text": [
      "                 Player  Overall_Score\n",
      "19         Gerard Piqué       0.793209\n",
      "4       Frenkie de Jong       0.641601\n",
      "11      Ousmane Dembélé       0.582585\n",
      "12        Marcos Alonso       0.581083\n",
      "10  Andreas Christensen       0.564695\n"
     ]
    }
   ],
   "source": [
    "print(top_5_players[['Player', 'Overall_Score']])"
   ]
  },
  {
   "cell_type": "code",
   "execution_count": null,
   "id": "bb7a4677-693e-417c-8e90-7f020be73fb4",
   "metadata": {},
   "outputs": [],
   "source": []
  }
 ],
 "metadata": {
  "kernelspec": {
   "display_name": "Python 3 (ipykernel)",
   "language": "python",
   "name": "python3"
  },
  "language_info": {
   "codemirror_mode": {
    "name": "ipython",
    "version": 3
   },
   "file_extension": ".py",
   "mimetype": "text/x-python",
   "name": "python",
   "nbconvert_exporter": "python",
   "pygments_lexer": "ipython3",
   "version": "3.9.12"
  }
 },
 "nbformat": 4,
 "nbformat_minor": 5
}
